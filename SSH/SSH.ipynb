{
 "cells": [
  {
   "cell_type": "markdown",
   "metadata": {},
   "source": [
    "# SSH (Secure Shell)"
   ]
  },
  {
   "cell_type": "markdown",
   "metadata": {},
   "source": [
    "> Secure Shell (SSH) is a software package that enables secure system administration and file transfers over insecure networks (Ex. Internet). \n",
    "\n",
    "1. Used in nearly every data center and large enterprise.\n",
    "\n",
    "2. Inventor of SSH, Tatu Ylonen. He wrote ssh-1.x and ssh-2.x, and still works on relates topics.\n",
    "\n",
    "3. Open Source (OpenSSH) implementation is based on his free version."
   ]
  },
  {
   "cell_type": "markdown",
   "metadata": {},
   "source": [
    "SSH protocol uses encryptation to secure the connection between a client and a server.\n",
    "\n",
    "All user authentication, commands, output, and file transfers are encrypted to protect against attacks in the network."
   ]
  },
  {
   "cell_type": "markdown",
   "metadata": {},
   "source": [
    "\n",
    "\n",
    "![SSH Protocol](./images/SSH_simplified_protocol_diagram-2.webp)"
   ]
  },
  {
   "cell_type": "markdown",
   "metadata": {},
   "source": [
    "---\n",
    "# Security of SSH and attacks against it\n",
    "\n",
    "The SSH protocol is believed to be secure against cryptographic attacks on the network, provided keys and credentials are properly managed."
   ]
  },
  {
   "cell_type": "markdown",
   "metadata": {},
   "source": [
    "**\"We do not recommend using diffie-hellman-group1-sha1 key exchange. It uses a 768 bit Diffie-Hellman group, which may be breakable by governments today\"**"
   ]
  },
  {
   "cell_type": "markdown",
   "metadata": {},
   "source": [
    "# SSH KEYS\n",
    "\n",
    "- SSH keys can be used to automate access to servers.\n",
    "- Commonly used in scripts, backup systems, configuration management tools, and by developers and sysadmins\n",
    "- They provide single sign-on, allowing the user to move between his/her accounts without having to type a password every time.\n",
    "- Works even across organizational boundaries"
   ]
  },
  {
   "cell_type": "markdown",
   "metadata": {},
   "source": [
    "# List of SSH implementations\n",
    "\n",
    "Now, various SSH implementations here:\n",
    "- [Tectia SSH](https://www.ssh.com/products/tectia-ssh/): Client and server for Windows, Unix, Linux\n",
    "- [Tectia SSH for IBM z/OS](https://www.ssh.com/products/mainframe-security-software) client & server for IBM z/OS mainframes - with 24x7 support\n",
    "\n",
    "- [PuTTY](https://www.ssh.com/ssh/putty/) client for Windows and Linux\n",
    "\n",
    "- [WinSCP](https://www.ssh.com/ssh/winscp) client for Windows\n",
    "\n",
    "- [CyberDuck](https://www.ssh.com/ssh/cyberduck/) client for Mac\n",
    "\n",
    "- [OpenSSH](https://www.ssh.com/ssh/openssh/) server for Unix, Linux\n",
    "\n",
    "- [Overview of client alternatives](https://www.ssh.com/ssh/client)\n",
    "\n",
    "- [Overview of server alternatives](https://www.ssh.com/ssh/server)\n",
    "\n",
    "- [Windows SSH alternatives](https://www.ssh.com/ssh/windows/)\n",
    "\n",
    "- [PrivX™ Privileged Access Management for multi-cloud](https://www.ssh.com/products/privx/)"
   ]
  }
 ],
 "metadata": {
  "kernelspec": {
   "display_name": "Python 3.9.12 ('base2')",
   "language": "python",
   "name": "python3"
  },
  "language_info": {
   "name": "python",
   "version": "3.9.12"
  },
  "orig_nbformat": 4,
  "vscode": {
   "interpreter": {
    "hash": "d8525af3e75b4616171a0b4aa4be59183cbdbdf3f14834493325c9811028633b"
   }
  }
 },
 "nbformat": 4,
 "nbformat_minor": 2
}
