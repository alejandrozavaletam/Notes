{
 "cells": [
  {
   "cell_type": "markdown",
   "metadata": {},
   "source": [
    "SSH (Secure Shell)"
   ]
  },
  {
   "cell_type": "markdown",
   "metadata": {},
   "source": [
    "Secure Shell (SSH) is a software package that enables secure system administration and file transfers over insecure networks (Ex. Internet). \n",
    "\n",
    "Used in nearly every data center and large enterprise.\n",
    "\n",
    "Inventor of SSH, Tatu Ylonen. He wrote ssh-1.x and ssh-2.x, and still works on relates topics.\n",
    "\n",
    "Open Source (OpenSSH) implementation is based on his free version."
   ]
  },
  {
   "cell_type": "markdown",
   "metadata": {},
   "source": [
    "SSH protocol uses encryptation to secure the connection between a client and a server.\n",
    "\n",
    "All user authentication, commands, output, and file transfers are encrypted to protect against attacks in the network."
   ]
  },
  {
   "cell_type": "markdown",
   "metadata": {},
   "source": [
    "\n",
    "![Getting Started](./SSH/images/SSH_simplified_protocol_diagram-2.webp.jpg)"
   ]
  }
 ],
 "metadata": {
  "kernelspec": {
   "display_name": "Python 3.9.12 ('base2')",
   "language": "python",
   "name": "python3"
  },
  "language_info": {
   "name": "python",
   "version": "3.9.12"
  },
  "orig_nbformat": 4,
  "vscode": {
   "interpreter": {
    "hash": "d8525af3e75b4616171a0b4aa4be59183cbdbdf3f14834493325c9811028633b"
   }
  }
 },
 "nbformat": 4,
 "nbformat_minor": 2
}
